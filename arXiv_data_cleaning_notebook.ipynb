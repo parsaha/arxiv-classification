{
 "cells": [
  {
   "cell_type": "code",
   "execution_count": 1,
   "metadata": {},
   "outputs": [],
   "source": [
    "import numpy as np\n",
    "import pandas as pd\n",
    "import statistics as stats\n",
    "import matplotlib.pyplot as plt\n",
    "%matplotlib inline\n",
    "import json"
   ]
  },
  {
   "cell_type": "code",
   "execution_count": 2,
   "metadata": {},
   "outputs": [],
   "source": [
    "# Side note to self for _xsrf error: https://stackoverflow.com/questions/55014094/jupyter-notebook-not-saving-xsrf-argument-missing-from-post"
   ]
  },
  {
   "cell_type": "code",
   "execution_count": 3,
   "metadata": {},
   "outputs": [],
   "source": [
    "# Was downloaded on 1/1/2021 from: https://www.kaggle.com/Cornell-University/arxiv\n",
    "file_path = 'arxiv-metadata-oai-snapshot.json'"
   ]
  },
  {
   "cell_type": "code",
   "execution_count": 4,
   "metadata": {},
   "outputs": [
    {
     "name": "stdout",
     "output_type": "stream",
     "text": [
      "{\"id\":\"0704.0001\",\"submitter\":\"Pavel Nadolsky\",\"authors\":\"C. Bal\\\\'azs, E. L. Berger, P. M. Nadolsky, C.-P. Yuan\",\"title\":\"Calculation of prompt diphoton production cross sections at Tevatron and\\n  LHC energies\",\"comments\":\"37 pages, 15 figures; published version\",\"journal-ref\":\"Phys.Rev.D76:013009,2007\",\"doi\":\"10.1103/PhysRevD.76.013009\",\"report-no\":\"ANL-HEP-PR-07-12\",\"categories\":\"hep-ph\",\"license\":null,\"abstract\":\"  A fully differential calculation in perturbative quantum chromodynamics is\\npresented for the production of massive photon pairs at hadron colliders. All\\nnext-to-leading order perturbative contributions from quark-antiquark,\\ngluon-(anti)quark, and gluon-gluon subprocesses are included, as well as\\nall-orders resummation of initial-state gluon radiation valid at\\nnext-to-next-to-leading logarithmic accuracy. The region of phase space is\\nspecified in which the calculation is most reliable. Good agreement is\\ndemonstrated with data from the Fermilab Tevatron, and predictions are made for\\nmore detailed tests with CDF and DO data. Predictions are shown for\\ndistributions of diphoton pairs produced at the energy of the Large Hadron\\nCollider (LHC). Distributions of the diphoton pairs from the decay of a Higgs\\nboson are contrasted with those produced from QCD processes at the LHC, showing\\nthat enhanced sensitivity to the signal can be obtained with judicious\\nselection of events.\\n\",\"versions\":[{\"version\":\"v1\",\"created\":\"Mon, 2 Apr 2007 19:18:42 GMT\"},{\"version\":\"v2\",\"created\":\"Tue, 24 Jul 2007 20:10:27 GMT\"}],\"update_date\":\"2008-11-26\",\"authors_parsed\":[[\"Bal\\u00e1zs\",\"C.\",\"\"],[\"Berger\",\"E. L.\",\"\"],[\"Nadolsky\",\"P. M.\",\"\"],[\"Yuan\",\"C. -P.\",\"\"]]}\n",
      "\n",
      "{\"id\":\"0704.0002\",\"submitter\":\"Louis Theran\",\"authors\":\"Ileana Streinu and Louis Theran\",\"title\":\"Sparsity-certifying Graph Decompositions\",\"comments\":\"To appear in Graphs and Combinatorics\",\"journal-ref\":null,\"doi\":null,\"report-no\":null,\"categories\":\"math.CO cs.CG\",\"license\":\"http://arxiv.org/licenses/nonexclusive-distrib/1.0/\",\"abstract\":\"  We describe a new algorithm, the $(k,\\\\ell)$-pebble game with colors, and use\\nit obtain a characterization of the family of $(k,\\\\ell)$-sparse graphs and\\nalgorithmic solutions to a family of problems concerning tree decompositions of\\ngraphs. Special instances of sparse graphs appear in rigidity theory and have\\nreceived increased attention in recent years. In particular, our colored\\npebbles generalize and strengthen the previous results of Lee and Streinu and\\ngive a new proof of the Tutte-Nash-Williams characterization of arboricity. We\\nalso present a new decomposition that certifies sparsity based on the\\n$(k,\\\\ell)$-pebble game with colors. Our work also exposes connections between\\npebble game algorithms and previous sparse graph algorithms by Gabow, Gabow and\\nWestermann and Hendrickson.\\n\",\"versions\":[{\"version\":\"v1\",\"created\":\"Sat, 31 Mar 2007 02:26:18 GMT\"},{\"version\":\"v2\",\"created\":\"Sat, 13 Dec 2008 17:26:00 GMT\"}],\"update_date\":\"2008-12-13\",\"authors_parsed\":[[\"Streinu\",\"Ileana\",\"\"],[\"Theran\",\"Louis\",\"\"]]}\n",
      "\n",
      "{\"id\":\"0704.0003\",\"submitter\":\"Hongjun Pan\",\"authors\":\"Hongjun Pan\",\"title\":\"The evolution of the Earth-Moon system based on the dark matter field\\n  fluid model\",\"comments\":\"23 pages, 3 figures\",\"journal-ref\":null,\"doi\":null,\"report-no\":null,\"categories\":\"physics.gen-ph\",\"license\":null,\"abstract\":\"  The evolution of Earth-Moon system is described by the dark matter field\\nfluid model proposed in the Meeting of Division of Particle and Field 2004,\\nAmerican Physical Society. The current behavior of the Earth-Moon system agrees\\nwith this model very well and the general pattern of the evolution of the\\nMoon-Earth system described by this model agrees with geological and fossil\\nevidence. The closest distance of the Moon to Earth was about 259000 km at 4.5\\nbillion years ago, which is far beyond the Roche's limit. The result suggests\\nthat the tidal friction may not be the primary cause for the evolution of the\\nEarth-Moon system. The average dark matter field fluid constant derived from\\nEarth-Moon system data is 4.39 x 10^(-22) s^(-1)m^(-1). This model predicts\\nthat the Mars's rotation is also slowing with the angular acceleration rate\\nabout -4.38 x 10^(-22) rad s^(-2).\\n\",\"versions\":[{\"version\":\"v1\",\"created\":\"Sun, 1 Apr 2007 20:46:54 GMT\"},{\"version\":\"v2\",\"created\":\"Sat, 8 Dec 2007 23:47:24 GMT\"},{\"version\":\"v3\",\"created\":\"Sun, 13 Jan 2008 00:36:28 GMT\"}],\"update_date\":\"2008-01-13\",\"authors_parsed\":[[\"Pan\",\"Hongjun\",\"\"]]}\n",
      "\n"
     ]
    }
   ],
   "source": [
    "# https://github.com/jupyter/help/issues/201\n",
    "with open('arxiv-metadata-oai-snapshot.json') as f:\n",
    "    for _ in range(3):\n",
    "        print(f.readline())"
   ]
  },
  {
   "cell_type": "code",
   "execution_count": 5,
   "metadata": {},
   "outputs": [],
   "source": [
    "# takes article metadata as a string and returns the arXiv shorthand for categories seperated by a space\n",
    "def clean_cats(data):\n",
    "    spl = data.split('\"categories\":')[1].split(',\"license\"')[0]\n",
    "    return spl[1:-1]"
   ]
  },
  {
   "cell_type": "code",
   "execution_count": 6,
   "metadata": {},
   "outputs": [],
   "source": [
    "# takes article metadata as a string and returns the title (without quotation marks)\n",
    "def clean_title(data):\n",
    "    spl = data.split('\"title\":')[1].split(',\"comments\":')[0]\n",
    "    return spl[1:-1].replace('\\\\n', '')"
   ]
  },
  {
   "cell_type": "code",
   "execution_count": 7,
   "metadata": {},
   "outputs": [],
   "source": [
    "# takes article metadata as a string and returns abstract (without quotation marks)\n",
    "def clean_ab(data):\n",
    "    spl = data.split('\"abstract\":')[1].split(',\"versions\":')[0]\n",
    "    return spl[3:-1].replace('\\\\n', '')"
   ]
  },
  {
   "cell_type": "code",
   "execution_count": 8,
   "metadata": {},
   "outputs": [],
   "source": [
    "# takes categories as a string (i.e. as the result of clean_cats) and returns the general category they fall under (by majority)\n",
    "# currently, a paper with equal tags in more than one subject is \"randomly\" chosen to be categorized by one of them\n",
    "# https://arxiv.org/category_taxonomy\n",
    "def gen_cat(cats):\n",
    "    math = q_bio = cs = q_fin = stat = eess = econ = physics = 0\n",
    "    gen_cat_list = ['math', 'q-bio', 'cs', 'q-fin', 'stat', 'eess', 'econ']\n",
    "    physics_list = ['astro-ph', 'cond-mat', 'gr-qc', 'hep-ex', 'hep-lat', 'hep-ph', 'hep-th', 'math-ph', 'nlin', 'nucl-ex',\n",
    "                   'nucl-th', 'physics', 'quant-ph']\n",
    "    cat_list = cats.split(' ')\n",
    "    for cat in cat_list:\n",
    "        if cat.split('.')[0] == 'math':\n",
    "            math+=1\n",
    "        elif cat.split('.')[0] == 'q-bio':\n",
    "            q_bio+=1\n",
    "        elif cat.split('.')[0] == 'cs':\n",
    "            cs+=1\n",
    "        elif cat.split('.')[0] == 'q-fin':\n",
    "            q_fin+=1\n",
    "        elif cat.split('.')[0] == 'stat':\n",
    "            stat+=1\n",
    "        elif cat.split('.')[0] == 'eess':\n",
    "            eess+=1\n",
    "        elif cat.split('.')[0] == 'econ':\n",
    "            econ+=1\n",
    "        elif cat.split('.')[0] in physics_list:\n",
    "            physics+=1\n",
    "    l = [math, q_bio, cs, q_fin, stat, eess, econ, physics]\n",
    "    gen_cat_list.append('physics')\n",
    "    return gen_cat_list[l.index(max(l))]"
   ]
  },
  {
   "cell_type": "code",
   "execution_count": 9,
   "metadata": {
    "scrolled": false
   },
   "outputs": [
    {
     "name": "stdout",
     "output_type": "stream",
     "text": [
      "hep-ph\n",
      "physics\n",
      "\n",
      "math.CO cs.CG\n",
      "math\n",
      "\n",
      "physics.gen-ph\n",
      "physics\n",
      "\n"
     ]
    }
   ],
   "source": [
    "# https://github.com/jupyter/help/issues/201\n",
    "with open('arxiv-metadata-oai-snapshot.json') as f:\n",
    "    for _ in range(3):\n",
    "        l = f.readline()\n",
    "        print(clean_cats(l))\n",
    "        print(gen_cat(clean_cats(l)))\n",
    "        print('')"
   ]
  },
  {
   "cell_type": "code",
   "execution_count": 10,
   "metadata": {},
   "outputs": [],
   "source": [
    "THRESHOLD = int(5e3)"
   ]
  },
  {
   "cell_type": "code",
   "execution_count": 11,
   "metadata": {},
   "outputs": [],
   "source": [
    "cat, title, ab = [], [], []\n",
    "\n",
    "# https://github.com/jupyter/help/issues/201\n",
    "with open(file_path) as f:\n",
    "    for _ in range(THRESHOLD):\n",
    "        t = f.readline()\n",
    "        title.append(clean_title(t))\n",
    "        ab.append(clean_ab(t))\n",
    "        cat.append(gen_cat(clean_cats(t)))"
   ]
  },
  {
   "cell_type": "code",
   "execution_count": 12,
   "metadata": {},
   "outputs": [
    {
     "name": "stdout",
     "output_type": "stream",
     "text": [
      "['physics', 'math']\n",
      "['Calculation of prompt diphoton production cross sections at Tevatron and  LHC energies', 'Sparsity-certifying Graph Decompositions']\n",
      "['A fully differential calculation in perturbative quantum chromodynamics ispresented for the production of massive photon pairs at hadron colliders. Allnext-to-leading order perturbative contributions from quark-antiquark,gluon-(anti)quark, and gluon-gluon subprocesses are included, as well asall-orders resummation of initial-state gluon radiation valid atnext-to-next-to-leading logarithmic accuracy. The region of phase space isspecified in which the calculation is most reliable. Good agreement isdemonstrated with data from the Fermilab Tevatron, and predictions are made formore detailed tests with CDF and DO data. Predictions are shown fordistributions of diphoton pairs produced at the energy of the Large HadronCollider (LHC). Distributions of the diphoton pairs from the decay of a Higgsboson are contrasted with those produced from QCD processes at the LHC, showingthat enhanced sensitivity to the signal can be obtained with judiciousselection of events.', 'We describe a new algorithm, the $(k,\\\\\\\\ell)$-pebble game with colors, and useit obtain a characterization of the family of $(k,\\\\\\\\ell)$-sparse graphs andalgorithmic solutions to a family of problems concerning tree decompositions ofgraphs. Special instances of sparse graphs appear in rigidity theory and havereceived increased attention in recent years. In particular, our coloredpebbles generalize and strengthen the previous results of Lee and Streinu andgive a new proof of the Tutte-Nash-Williams characterization of arboricity. Wealso present a new decomposition that certifies sparsity based on the$(k,\\\\\\\\ell)$-pebble game with colors. Our work also exposes connections betweenpebble game algorithms and previous sparse graph algorithms by Gabow, Gabow andWestermann and Hendrickson.']\n"
     ]
    }
   ],
   "source": [
    "print(cat[:2])\n",
    "print(title[:2])\n",
    "print(ab[:2])"
   ]
  },
  {
   "cell_type": "code",
   "execution_count": 13,
   "metadata": {},
   "outputs": [],
   "source": [
    "df = pd.DataFrame([title, ab, cat])\n",
    "df = df.transpose()\n",
    "df.columns = ['Title', 'Abstract', 'Category']"
   ]
  },
  {
   "cell_type": "code",
   "execution_count": 14,
   "metadata": {},
   "outputs": [
    {
     "data": {
      "text/html": [
       "<div>\n",
       "<style scoped>\n",
       "    .dataframe tbody tr th:only-of-type {\n",
       "        vertical-align: middle;\n",
       "    }\n",
       "\n",
       "    .dataframe tbody tr th {\n",
       "        vertical-align: top;\n",
       "    }\n",
       "\n",
       "    .dataframe thead th {\n",
       "        text-align: right;\n",
       "    }\n",
       "</style>\n",
       "<table border=\"1\" class=\"dataframe\">\n",
       "  <thead>\n",
       "    <tr style=\"text-align: right;\">\n",
       "      <th></th>\n",
       "      <th>Title</th>\n",
       "      <th>Abstract</th>\n",
       "      <th>Category</th>\n",
       "    </tr>\n",
       "  </thead>\n",
       "  <tbody>\n",
       "    <tr>\n",
       "      <th>0</th>\n",
       "      <td>Calculation of prompt diphoton production cros...</td>\n",
       "      <td>A fully differential calculation in perturbati...</td>\n",
       "      <td>physics</td>\n",
       "    </tr>\n",
       "    <tr>\n",
       "      <th>1</th>\n",
       "      <td>Sparsity-certifying Graph Decompositions</td>\n",
       "      <td>We describe a new algorithm, the $(k,\\\\ell)$-p...</td>\n",
       "      <td>math</td>\n",
       "    </tr>\n",
       "    <tr>\n",
       "      <th>2</th>\n",
       "      <td>The evolution of the Earth-Moon system based o...</td>\n",
       "      <td>The evolution of Earth-Moon system is describe...</td>\n",
       "      <td>physics</td>\n",
       "    </tr>\n",
       "    <tr>\n",
       "      <th>3</th>\n",
       "      <td>A determinant of Stirling cycle numbers counts...</td>\n",
       "      <td>We show that a determinant of Stirling cycle n...</td>\n",
       "      <td>math</td>\n",
       "    </tr>\n",
       "    <tr>\n",
       "      <th>4</th>\n",
       "      <td>From dyadic $\\\\Lambda_{\\\\alpha}$ to $\\\\Lambda_...</td>\n",
       "      <td>In this paper we show how to compute the $\\\\La...</td>\n",
       "      <td>math</td>\n",
       "    </tr>\n",
       "  </tbody>\n",
       "</table>\n",
       "</div>"
      ],
      "text/plain": [
       "                                               Title  \\\n",
       "0  Calculation of prompt diphoton production cros...   \n",
       "1           Sparsity-certifying Graph Decompositions   \n",
       "2  The evolution of the Earth-Moon system based o...   \n",
       "3  A determinant of Stirling cycle numbers counts...   \n",
       "4  From dyadic $\\\\Lambda_{\\\\alpha}$ to $\\\\Lambda_...   \n",
       "\n",
       "                                            Abstract Category  \n",
       "0  A fully differential calculation in perturbati...  physics  \n",
       "1  We describe a new algorithm, the $(k,\\\\ell)$-p...     math  \n",
       "2  The evolution of Earth-Moon system is describe...  physics  \n",
       "3  We show that a determinant of Stirling cycle n...     math  \n",
       "4  In this paper we show how to compute the $\\\\La...     math  "
      ]
     },
     "execution_count": 14,
     "metadata": {},
     "output_type": "execute_result"
    }
   ],
   "source": [
    "df.head()"
   ]
  },
  {
   "cell_type": "markdown",
   "metadata": {},
   "source": [
    "Note that while the above preview makes it seem as though the characters JSON used for the math formatting are being rendered, but the cell below shows that this is not the case (i.e., the text is still normal text). "
   ]
  },
  {
   "cell_type": "code",
   "execution_count": 15,
   "metadata": {},
   "outputs": [
    {
     "data": {
      "text/plain": [
       "'From dyadic $\\\\\\\\Lambda_{\\\\\\\\alpha}$ to $\\\\\\\\Lambda_{\\\\\\\\alpha}$'"
      ]
     },
     "execution_count": 15,
     "metadata": {},
     "output_type": "execute_result"
    }
   ],
   "source": [
    "df['Title'][4]"
   ]
  },
  {
   "cell_type": "code",
   "execution_count": 16,
   "metadata": {},
   "outputs": [
    {
     "name": "stdout",
     "output_type": "stream",
     "text": [
      "['22 ', ' 33']\n"
     ]
    }
   ],
   "source": [
    "lat = '22 $$ 33'\n",
    "pop = lat.split('$')\n",
    "pop.remove('')\n",
    "print(pop)"
   ]
  },
  {
   "cell_type": "code",
   "execution_count": 17,
   "metadata": {},
   "outputs": [
    {
     "data": {
      "image/png": "[encoded data removed]",
      "text/plain": [
       "<Figure size 432x288 with 1 Axes>"
      ]
     },
     "metadata": {
      "needs_background": "light"
     },
     "output_type": "display_data"
    }
   ],
   "source": [
    "df.groupby('Category').Abstract.count().plot.bar(ylim=0)\n",
    "plt.show()"
   ]
  },
  {
   "cell_type": "markdown",
   "metadata": {},
   "source": [
    "Turns out these are the only 6 categories that actually show up in the portion of the dataset that we chose to work with. Oh well. "
   ]
  },
  {
   "cell_type": "code",
   "execution_count": 18,
   "metadata": {},
   "outputs": [],
   "source": [
    "# The following makes use of this resource: https://towardsdatascience.com/multi-class-text-classification-with-sklearn-and-nltk-in-python-a-software-engineering-use-case-779d4a28ba5"
   ]
  },
  {
   "cell_type": "code",
   "execution_count": 19,
   "metadata": {},
   "outputs": [],
   "source": [
    "import re\n",
    "from nltk.corpus import stopwords\n",
    "from nltk.stem import PorterStemmer\n",
    "from sklearn.feature_extraction.text import TfidfVectorizer\n",
    "from sklearn.model_selection import train_test_split\n",
    "from sklearn.ensemble import RandomForestClassifier"
   ]
  },
  {
   "cell_type": "code",
   "execution_count": 20,
   "metadata": {},
   "outputs": [],
   "source": [
    "stemmer = PorterStemmer()\n",
    "words = stopwords.words(\"english\")\n",
    "df['Cleaned Title'] = df['Title'].apply(lambda x: \" \".join([stemmer.stem(i) for i in re.sub(\"[^a-zA-Z0-9]\", \" \", x).split() if i not in words]).lower())\n",
    "df['Cleaned Abstract'] = df['Abstract'].apply(lambda x: \" \".join([stemmer.stem(i) for i in re.sub(\"[^a-zA-Z0-9]\", \" \", x).split() if i not in words]).lower())"
   ]
  },
  {
   "cell_type": "code",
   "execution_count": 21,
   "metadata": {},
   "outputs": [
    {
     "data": {
      "text/html": [
       "<div>\n",
       "<style scoped>\n",
       "    .dataframe tbody tr th:only-of-type {\n",
       "        vertical-align: middle;\n",
       "    }\n",
       "\n",
       "    .dataframe tbody tr th {\n",
       "        vertical-align: top;\n",
       "    }\n",
       "\n",
       "    .dataframe thead th {\n",
       "        text-align: right;\n",
       "    }\n",
       "</style>\n",
       "<table border=\"1\" class=\"dataframe\">\n",
       "  <thead>\n",
       "    <tr style=\"text-align: right;\">\n",
       "      <th></th>\n",
       "      <th>Title</th>\n",
       "      <th>Abstract</th>\n",
       "      <th>Category</th>\n",
       "      <th>Cleaned Title</th>\n",
       "      <th>Cleaned Abstract</th>\n",
       "    </tr>\n",
       "  </thead>\n",
       "  <tbody>\n",
       "    <tr>\n",
       "      <th>0</th>\n",
       "      <td>Calculation of prompt diphoton production cros...</td>\n",
       "      <td>A fully differential calculation in perturbati...</td>\n",
       "      <td>physics</td>\n",
       "      <td>calcul prompt diphoton product cross section t...</td>\n",
       "      <td>a fulli differenti calcul perturb quantum chro...</td>\n",
       "    </tr>\n",
       "    <tr>\n",
       "      <th>1</th>\n",
       "      <td>Sparsity-certifying Graph Decompositions</td>\n",
       "      <td>We describe a new algorithm, the $(k,\\\\ell)$-p...</td>\n",
       "      <td>math</td>\n",
       "      <td>sparsiti certifi graph decomposit</td>\n",
       "      <td>we describ new algorithm k ell pebbl game colo...</td>\n",
       "    </tr>\n",
       "    <tr>\n",
       "      <th>2</th>\n",
       "      <td>The evolution of the Earth-Moon system based o...</td>\n",
       "      <td>The evolution of Earth-Moon system is describe...</td>\n",
       "      <td>physics</td>\n",
       "      <td>the evolut earth moon system base dark matter ...</td>\n",
       "      <td>the evolut earth moon system describ dark matt...</td>\n",
       "    </tr>\n",
       "    <tr>\n",
       "      <th>3</th>\n",
       "      <td>A determinant of Stirling cycle numbers counts...</td>\n",
       "      <td>We show that a determinant of Stirling cycle n...</td>\n",
       "      <td>math</td>\n",
       "      <td>a determin stirl cycl number count unlabel acy...</td>\n",
       "      <td>we show determin stirl cycl number count unlab...</td>\n",
       "    </tr>\n",
       "    <tr>\n",
       "      <th>4</th>\n",
       "      <td>From dyadic $\\\\Lambda_{\\\\alpha}$ to $\\\\Lambda_...</td>\n",
       "      <td>In this paper we show how to compute the $\\\\La...</td>\n",
       "      <td>math</td>\n",
       "      <td>from dyadic lambda alpha lambda alpha</td>\n",
       "      <td>in paper show comput lambda alpha norm alpha g...</td>\n",
       "    </tr>\n",
       "  </tbody>\n",
       "</table>\n",
       "</div>"
      ],
      "text/plain": [
       "                                               Title  \\\n",
       "0  Calculation of prompt diphoton production cros...   \n",
       "1           Sparsity-certifying Graph Decompositions   \n",
       "2  The evolution of the Earth-Moon system based o...   \n",
       "3  A determinant of Stirling cycle numbers counts...   \n",
       "4  From dyadic $\\\\Lambda_{\\\\alpha}$ to $\\\\Lambda_...   \n",
       "\n",
       "                                            Abstract Category  \\\n",
       "0  A fully differential calculation in perturbati...  physics   \n",
       "1  We describe a new algorithm, the $(k,\\\\ell)$-p...     math   \n",
       "2  The evolution of Earth-Moon system is describe...  physics   \n",
       "3  We show that a determinant of Stirling cycle n...     math   \n",
       "4  In this paper we show how to compute the $\\\\La...     math   \n",
       "\n",
       "                                       Cleaned Title  \\\n",
       "0  calcul prompt diphoton product cross section t...   \n",
       "1                  sparsiti certifi graph decomposit   \n",
       "2  the evolut earth moon system base dark matter ...   \n",
       "3  a determin stirl cycl number count unlabel acy...   \n",
       "4              from dyadic lambda alpha lambda alpha   \n",
       "\n",
       "                                    Cleaned Abstract  \n",
       "0  a fulli differenti calcul perturb quantum chro...  \n",
       "1  we describ new algorithm k ell pebbl game colo...  \n",
       "2  the evolut earth moon system describ dark matt...  \n",
       "3  we show determin stirl cycl number count unlab...  \n",
       "4  in paper show comput lambda alpha norm alpha g...  "
      ]
     },
     "execution_count": 21,
     "metadata": {},
     "output_type": "execute_result"
    }
   ],
   "source": [
    "df.head()"
   ]
  },
  {
   "cell_type": "code",
   "execution_count": 22,
   "metadata": {},
   "outputs": [
    {
     "data": {
      "text/plain": [
       "'In this paper we show how to compute the $\\\\\\\\Lambda_{\\\\\\\\alpha}$ norm, $\\\\\\\\alpha\\\\\\\\ge0$, using the dyadic grid. This result is a consequence of the description ofthe Hardy spaces $H^p(R^N)$ in terms of dyadic and special atoms.'"
      ]
     },
     "execution_count": 22,
     "metadata": {},
     "output_type": "execute_result"
    }
   ],
   "source": [
    "df.iloc[4,:]['Abstract']"
   ]
  },
  {
   "cell_type": "code",
   "execution_count": 23,
   "metadata": {},
   "outputs": [
    {
     "data": {
      "text/plain": [
       "'in paper show comput lambda alpha norm alpha ge0 use dyadic grid thi result consequ descript ofth hardi space h p r n term dyadic special atom'"
      ]
     },
     "execution_count": 23,
     "metadata": {},
     "output_type": "execute_result"
    }
   ],
   "source": [
    "df.iloc[4,:]['Cleaned Abstract']"
   ]
  },
  {
   "cell_type": "code",
   "execution_count": 24,
   "metadata": {},
   "outputs": [
    {
     "data": {
      "text/plain": [
       "(5000, 2907)"
      ]
     },
     "execution_count": 24,
     "metadata": {},
     "output_type": "execute_result"
    }
   ],
   "source": [
    "vectorizer = TfidfVectorizer(min_df= 3, stop_words=\"english\", ngram_range=(1, 2))\n",
    "title_final_features = vectorizer.fit_transform(df['Cleaned Title']).toarray()\n",
    "title_final_features.shape"
   ]
  },
  {
   "cell_type": "code",
   "execution_count": 25,
   "metadata": {},
   "outputs": [],
   "source": [
    "# title training and testing sets\n",
    "X_t = title_final_features\n",
    "Y_t = df['Category']\n",
    "X_t_train, X_t_test, y_t_train, y_t_test = train_test_split(X_t, Y_t, test_size=0.25)"
   ]
  },
  {
   "cell_type": "code",
   "execution_count": 26,
   "metadata": {},
   "outputs": [
    {
     "data": {
      "text/plain": [
       "RandomForestClassifier(bootstrap=True, class_weight=None, criterion='gini',\n",
       "            max_depth=None, max_features='auto', max_leaf_nodes=None,\n",
       "            min_impurity_decrease=0.0, min_impurity_split=None,\n",
       "            min_samples_leaf=1, min_samples_split=2,\n",
       "            min_weight_fraction_leaf=0.0, n_estimators=100, n_jobs=None,\n",
       "            oob_score=False, random_state=None, verbose=0,\n",
       "            warm_start=False)"
      ]
     },
     "execution_count": 26,
     "metadata": {},
     "output_type": "execute_result"
    }
   ],
   "source": [
    "# https://www.blopig.com/blog/2017/07/using-random-forests-in-python-with-scikit-learn/\n",
    "# RANDOM FOREST\n",
    "rf_t = RandomForestClassifier(n_estimators=100)\n",
    "rf_t.fit(X_t_train, y_t_train)"
   ]
  },
  {
   "cell_type": "code",
   "execution_count": 27,
   "metadata": {},
   "outputs": [],
   "source": [
    "# https://stackabuse.com/text-classification-with-python-and-scikit-learn/\n",
    "y_t_pred = rf_t.predict(X_t_test)"
   ]
  },
  {
   "cell_type": "code",
   "execution_count": 28,
   "metadata": {},
   "outputs": [
    {
     "name": "stdout",
     "output_type": "stream",
     "text": [
      "0.8288\n"
     ]
    }
   ],
   "source": [
    "from sklearn.metrics import classification_report, confusion_matrix, accuracy_score\n",
    "print(accuracy_score(y_t_test, y_t_pred))"
   ]
  },
  {
   "cell_type": "markdown",
   "metadata": {},
   "source": [
    "We have an 82.88% accuracy in predicting the category of a paper based on its title. "
   ]
  },
  {
   "cell_type": "code",
   "execution_count": 29,
   "metadata": {},
   "outputs": [
    {
     "data": {
      "text/plain": [
       "(5000, 17747)"
      ]
     },
     "execution_count": 29,
     "metadata": {},
     "output_type": "execute_result"
    }
   ],
   "source": [
    "abstract_final_features = vectorizer.fit_transform(df['Cleaned Abstract']).toarray()\n",
    "abstract_final_features.shape"
   ]
  },
  {
   "cell_type": "code",
   "execution_count": 30,
   "metadata": {},
   "outputs": [],
   "source": [
    "# abstract training and testing sets\n",
    "X_a = abstract_final_features\n",
    "Y_a = df['Category']\n",
    "X_a_train, X_a_test, y_a_train, y_a_test = train_test_split(X_a, Y_a, test_size=0.25)"
   ]
  },
  {
   "cell_type": "code",
   "execution_count": 31,
   "metadata": {},
   "outputs": [
    {
     "data": {
      "text/plain": [
       "RandomForestClassifier(bootstrap=True, class_weight=None, criterion='gini',\n",
       "            max_depth=None, max_features='auto', max_leaf_nodes=None,\n",
       "            min_impurity_decrease=0.0, min_impurity_split=None,\n",
       "            min_samples_leaf=1, min_samples_split=2,\n",
       "            min_weight_fraction_leaf=0.0, n_estimators=100, n_jobs=None,\n",
       "            oob_score=False, random_state=None, verbose=0,\n",
       "            warm_start=False)"
      ]
     },
     "execution_count": 31,
     "metadata": {},
     "output_type": "execute_result"
    }
   ],
   "source": [
    "# https://www.blopig.com/blog/2017/07/using-random-forests-in-python-with-scikit-learn/\n",
    "# RANDOM FOREST\n",
    "rf_a = RandomForestClassifier(n_estimators=100)\n",
    "rf_a.fit(X_a_train, y_a_train)"
   ]
  },
  {
   "cell_type": "code",
   "execution_count": 32,
   "metadata": {},
   "outputs": [],
   "source": [
    "# https://stackabuse.com/text-classification-with-python-and-scikit-learn/\n",
    "y_a_pred = rf_a.predict(X_a_test)"
   ]
  },
  {
   "cell_type": "code",
   "execution_count": 33,
   "metadata": {},
   "outputs": [
    {
     "name": "stdout",
     "output_type": "stream",
     "text": [
      "0.8736\n"
     ]
    }
   ],
   "source": [
    "print(accuracy_score(y_a_test, y_a_pred))"
   ]
  },
  {
   "cell_type": "markdown",
   "metadata": {},
   "source": [
    "We have an 87.3% accuracy in predicting the category of a paper based on its abstract. "
   ]
  },
  {
   "cell_type": "code",
   "execution_count": 34,
   "metadata": {},
   "outputs": [
    {
     "name": "stdout",
     "output_type": "stream",
     "text": [
      "physics 3565\n",
      "math 1174\n",
      "q-bio 64\n",
      "cs 174\n",
      "q-fin 7\n",
      "stat 16\n",
      "0.713\n"
     ]
    }
   ],
   "source": [
    "ratio_sum = ph_sum = 0\n",
    "for i in df['Category'].unique():\n",
    "    print(i, (df['Category'] == i).sum())\n",
    "    if i != 'physics':\n",
    "        ratio_sum += (df['Category'] == i).sum()\n",
    "    else:\n",
    "        ph_sum = (df['Category'] == i).sum()\n",
    "print(ph_sum / (ratio_sum + ph_sum))"
   ]
  },
  {
   "cell_type": "markdown",
   "metadata": {},
   "source": [
    "The ratio of physics to total paper is less than the accuracy (73% < 83% and < 87%). Therefore, the algorithm did better than just guessing \"physics\" all the time. "
   ]
  }
 ],
 "metadata": {
  "kernelspec": {
   "display_name": "Python 3",
   "language": "python",
   "name": "python3"
  },
  "language_info": {
   "codemirror_mode": {
    "name": "ipython",
    "version": 3
   },
   "file_extension": ".py",
   "mimetype": "text/x-python",
   "name": "python",
   "nbconvert_exporter": "python",
   "pygments_lexer": "ipython3",
   "version": "3.7.1"
  }
 },
 "nbformat": 4,
 "nbformat_minor": 2
}
